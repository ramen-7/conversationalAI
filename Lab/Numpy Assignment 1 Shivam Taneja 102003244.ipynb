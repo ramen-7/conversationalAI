{
 "cells": [
  {
   "cell_type": "markdown",
   "source": [
    "## Importing NumPy"
   ],
   "metadata": {
    "collapsed": false,
    "pycharm": {
     "name": "#%% md\n"
    }
   }
  },
  {
   "cell_type": "code",
   "execution_count": 3,
   "outputs": [],
   "source": [
    "import numpy as np"
   ],
   "metadata": {
    "collapsed": false,
    "pycharm": {
     "name": "#%%\n"
    }
   }
  },
  {
   "cell_type": "markdown",
   "source": [
    "### Q1: Questions on Basic NumPy Array"
   ],
   "metadata": {
    "collapsed": false,
    "pycharm": {
     "name": "#%% md\n"
    }
   }
  },
  {
   "cell_type": "markdown",
   "source": [
    "(a) Reverse the NumPy array: arr = np.array([1, 2, 3, 6, 4, 5])"
   ],
   "metadata": {
    "collapsed": false,
    "pycharm": {
     "name": "#%% md\n"
    }
   }
  },
  {
   "cell_type": "code",
   "execution_count": 6,
   "outputs": [
    {
     "name": "stdout",
     "output_type": "stream",
     "text": [
      "[1 2 3 6 4 5] reverse is [5 4 6 3 2 1]\n"
     ]
    }
   ],
   "source": [
    "arr = np.array([1, 2, 3, 6, 4, 5])\n",
    "print(f\"{arr} reverse is {np.flip(arr)}\")"
   ],
   "metadata": {
    "collapsed": false,
    "pycharm": {
     "name": "#%%\n"
    }
   }
  },
  {
   "cell_type": "markdown",
   "source": [
    "(b) Flatten the NumPy arr: array1 = np.array([[1, 2, 3], [2, 4, 5], [1, 2, 3]]) using any two\n",
    "NumPy in-built methods"
   ],
   "metadata": {
    "collapsed": false,
    "pycharm": {
     "name": "#%% md\n"
    }
   }
  },
  {
   "cell_type": "code",
   "execution_count": 7,
   "outputs": [
    {
     "name": "stdout",
     "output_type": "stream",
     "text": [
      "[[1 2 3]\n",
      " [2 4 5]\n",
      " [1 2 3]] flattened is: [1 2 3 2 4 5 1 2 3]\n"
     ]
    }
   ],
   "source": [
    "array1 = np.array([[1, 2, 3], [2, 4, 5], [1, 2, 3]])\n",
    "print(f\"{array1} flattened is: {array1.flatten()}\")"
   ],
   "metadata": {
    "collapsed": false,
    "pycharm": {
     "name": "#%%\n"
    }
   }
  },
  {
   "cell_type": "markdown",
   "source": [
    "(c) Compare the following numpy arrays:\n",
    "arr1 = np.array([[1, 2], [3, 4]])\n",
    "arr2 = np.array([[1, 2], [3, 4]])"
   ],
   "metadata": {
    "collapsed": false,
    "pycharm": {
     "name": "#%% md\n"
    }
   }
  },
  {
   "cell_type": "code",
   "execution_count": 12,
   "outputs": [
    {
     "name": "stdout",
     "output_type": "stream",
     "text": [
      "Comparing\n",
      "arr1: [[1 2]\n",
      " [3 4]]\n",
      " and\n",
      "arr2: [[1 2]\n",
      " [3 4]]\n",
      "Comparison: [[ True  True]\n",
      " [ True  True]]\n"
     ]
    }
   ],
   "source": [
    "arr1 = np.array([[1, 2], [3, 4]])\n",
    "arr2 = np.array([[1, 2], [3, 4]])\n",
    "\n",
    "print(f\"\"\"Comparing\n",
    "arr1: {arr1}\n",
    " and\n",
    "arr2: {arr2}\n",
    "Comparison: {np.equal(arr1, arr2)}\"\"\")"
   ],
   "metadata": {
    "collapsed": false,
    "pycharm": {
     "name": "#%%\n"
    }
   }
  },
  {
   "cell_type": "markdown",
   "source": [
    "(d) Find the most frequent value and their indice(s) in the following arrays:\n",
    "i. x = np.array([1,2,3,4,5,1,2,1,1,1])\n",
    "ii. y = np.array([1, 1, 1, 2, 3, 4, 2, 4, 3, 3, ])"
   ],
   "metadata": {
    "collapsed": false,
    "pycharm": {
     "name": "#%% md\n"
    }
   }
  },
  {
   "cell_type": "code",
   "execution_count": 25,
   "outputs": [
    {
     "name": "stdout",
     "output_type": "stream",
     "text": [
      "Most frequent element in [1 2 3 4 5 1 2 1 1 1] is: 1 at indice(s): (array([0, 5, 7, 8, 9], dtype=int64),)\n",
      "Most frequent element in [1 1 1 2 3 4 2 4 3 3] is: 1 at indice(s): (array([0, 1, 2], dtype=int64),)\n"
     ]
    }
   ],
   "source": [
    "x = np.array([1,2,3,4,5,1,2,1,1,1])\n",
    "print(f\"Most frequent element in {x} is: {np.bincount(x).argmax()} at indice(s): {np.where(x == np.bincount(x).argmax())}\")\n",
    "y = np.array([1, 1, 1, 2, 3, 4, 2, 4, 3, 3])\n",
    "print(f\"Most frequent element in {y} is: {np.bincount(y).argmax()} at indice(s): {np.where(y == np.bincount(y).argmax())}\")"
   ],
   "metadata": {
    "collapsed": false,
    "pycharm": {
     "name": "#%%\n"
    }
   }
  },
  {
   "cell_type": "markdown",
   "source": [],
   "metadata": {
    "collapsed": false,
    "pycharm": {
     "name": "#%% md\n"
    }
   }
  },
  {
   "cell_type": "markdown",
   "source": [
    "(e) For the array gfg = np.matrix('[4, 1, 9; 12, 3, 1; 4, 5, 6]'), find\n",
    "i. Sum of all elements\n",
    "ii. Sum of all elements row-wise\n",
    "iii. Sum of all elements column-wise"
   ],
   "metadata": {
    "collapsed": false,
    "pycharm": {
     "name": "#%% md\n"
    }
   }
  },
  {
   "cell_type": "code",
   "execution_count": 32,
   "outputs": [
    {
     "name": "stdout",
     "output_type": "stream",
     "text": [
      "Sum of all elements: 45\n",
      "Sum of all elements row wise: \n",
      "[[14]\n",
      " [16]\n",
      " [15]]\n",
      "Sum of all elements column wise: \n",
      "[[20  9 16]]\n"
     ]
    }
   ],
   "source": [
    "gfg = np.matrix('[4, 1, 9; 12, 3, 1; 4, 5, 6]')\n",
    "print(f\"Sum of all elements: {np.sum(gfg)}\")\n",
    "print(f\"Sum of all elements row wise: \\n{np.sum(gfg, axis=1)}\")\n",
    "print(f\"Sum of all elements column wise: \\n{np.sum(gfg, axis=0)}\")"
   ],
   "metadata": {
    "collapsed": false,
    "pycharm": {
     "name": "#%%\n"
    }
   }
  },
  {
   "cell_type": "markdown",
   "source": [
    "(f) For the matrix: n_array = np.array([[55, 25, 15],[30, 44, 2],[11, 45, 77]]), find\n",
    "i. Sum of diagonal elements\n",
    "ii. Eigen values of matrix\n",
    "iii. Eigen vectors of matrix\n",
    "iv. Inverse of matrix\n",
    "v. Determinant of matrix"
   ],
   "metadata": {
    "collapsed": false,
    "pycharm": {
     "name": "#%% md\n"
    }
   }
  },
  {
   "cell_type": "code",
   "execution_count": 46,
   "outputs": [
    {
     "name": "stdout",
     "output_type": "stream",
     "text": [
      "[[55 25 15]\n",
      " [30 44  2]\n",
      " [11 45 77]]\n",
      "Sum of diagonal elements: 176\n",
      "Eigen values of matrix: \n",
      "[98.16835147 28.097044   49.73460452]\n",
      "Eigen vectors of matrix: \n",
      "[[ 0.4574917   0.34637121 -0.15017693]\n",
      " [ 0.28447814 -0.72784061 -0.4852124 ]\n",
      " [ 0.84248058  0.59184038  0.8614034 ]]\n",
      "Inverse of matrix: \n",
      "[[ 0.02404141 -0.00911212 -0.00444671]\n",
      " [-0.01667882  0.02966905  0.0024785 ]\n",
      " [ 0.00631287 -0.01603732  0.01217379]]\n",
      "Determinant of a matrix: 137180.0000000001\n"
     ]
    }
   ],
   "source": [
    "n_array = np.array([[55, 25, 15],[30, 44, 2],[11, 45, 77]])\n",
    "print(n_array)\n",
    "v, w = np.linalg.eig(n_array)\n",
    "print(f\"Sum of diagonal elements: {np.trace(n_array)}\")\n",
    "print(f\"Eigen values of matrix: \\n{v}\")\n",
    "print(f\"Eigen vectors of matrix: \\n{w}\")\n",
    "print(f\"Inverse of matrix: \\n{np.linalg.inv(n_array)}\")\n",
    "print(f\"Determinant of a matrix: {np.linalg.det(n_array)}\")"
   ],
   "metadata": {
    "collapsed": false,
    "pycharm": {
     "name": "#%%\n"
    }
   }
  },
  {
   "cell_type": "markdown",
   "source": [
    "(g) Multiply the following matrices and also find covariance between matrices using NumPy:\n",
    "i. p = [[1, 2], [2, 3]]\n",
    "q = [[4, 5], [6, 7]]\n",
    "ii. p = [[1, 2], [2, 3], [4, 5]]\n",
    "q = [[4, 5, 1], [6, 7, 2]]"
   ],
   "metadata": {
    "collapsed": false,
    "pycharm": {
     "name": "#%% md\n"
    }
   }
  },
  {
   "cell_type": "code",
   "execution_count": 56,
   "outputs": [
    {
     "name": "stdout",
     "output_type": "stream",
     "text": [
      "Multiplication of [[1, 2], [2, 3]] x [[4, 5], [6, 7]] \n",
      "= [[16 19]\n",
      " [26 31]]\n",
      "Covariance of [[1, 2], [2, 3]] and [[4, 5], [6, 7]] is: 0.5\n",
      "Multiplication of [[1, 2], [2, 3], [4, 5]] x [[4, 5, 1], [6, 7, 2]] \n",
      "= [[16 19  5]\n",
      " [26 31  8]\n",
      " [46 55 14]]\n",
      "Size of [[1, 2], [2, 3], [4, 5]] != size of [[4, 5, 1], [6, 7, 2]], hence we cannot find covariance between the two\n"
     ]
    }
   ],
   "source": [
    "p = [[1, 2], [2, 3]]\n",
    "q = [[4, 5], [6, 7]]\n",
    "print(f\"Multiplication of {p} x {q} \\n= {np.matmul(p, q)}\")\n",
    "print(f\"Covariance of {p} and {q} is: {np.cov(p, q)[0][1]}\")\n",
    "p = [[1, 2], [2, 3], [4, 5]]\n",
    "q = [[4, 5, 1], [6, 7, 2]]\n",
    "print(f\"Multiplication of {p} x {q} \\n= {np.matmul(p, q)}\")\n",
    "print(f\"Size of {p} != size of {q}, hence we cannot find covariance between the two\")"
   ],
   "metadata": {
    "collapsed": false,
    "pycharm": {
     "name": "#%%\n"
    }
   }
  },
  {
   "cell_type": "markdown",
   "source": [
    "For the matrices: x = np.array([[2, 3, 4], [3, 2, 9]]); y = np.array([[1, 5, 0], [5, 10, 3]]),\n",
    "find inner, outer and cartesian product?"
   ],
   "metadata": {
    "collapsed": false,
    "pycharm": {
     "name": "#%% md\n"
    }
   }
  },
  {
   "cell_type": "code",
   "execution_count": 69,
   "outputs": [
    {
     "name": "stdout",
     "output_type": "stream",
     "text": [
      "X = [[2 3 4]\n",
      " [3 2 9]]\n",
      "Y = [[ 1  5  0]\n",
      " [ 5 10  3]]\n",
      "Inner product = \n",
      "[[17 52]\n",
      " [13 62]]\n",
      "Outer product = \n",
      "[[ 2 10  0 10 20  6]\n",
      " [ 3 15  0 15 30  9]\n",
      " [ 4 20  0 20 40 12]\n",
      " [ 3 15  0 15 30  9]\n",
      " [ 2 10  0 10 20  6]\n",
      " [ 9 45  0 45 90 27]]\n",
      "Cartesian product = [array([[2, 3, 4, 2, 3, 4],\n",
      "        [3, 2, 9, 3, 2, 9]])\n",
      " array([ 1,  1,  5,  5,  0,  0,  5,  5, 10, 10,  3,  3])]\n"
     ]
    },
    {
     "name": "stderr",
     "output_type": "stream",
     "text": [
      "C:\\ProgramData\\Anaconda3\\lib\\site-packages\\numpy\\core\\_asarray.py:102: VisibleDeprecationWarning: Creating an ndarray from ragged nested sequences (which is a list-or-tuple of lists-or-tuples-or ndarrays with different lengths or shapes) is deprecated. If you meant to do this, you must specify 'dtype=object' when creating the ndarray.\n",
      "  return array(a, dtype, copy=False, order=order)\n"
     ]
    }
   ],
   "source": [
    "x = np.array([[2, 3, 4], [3, 2, 9]])\n",
    "y = np.array([[1, 5, 0], [5, 10, 3]])\n",
    "print(f\"X = {x}\")\n",
    "print(f\"Y = {y}\")\n",
    "print(f\"Inner product = \\n{np.inner(x, y)}\")\n",
    "print(f\"Outer product = \\n{np.outer(x, y)}\")\n",
    "#print(f\"Cartesian product = {np.transpose([np.tile(x, len(y)), np.repeat(y, len(x))])}\")"
   ],
   "metadata": {
    "collapsed": false,
    "pycharm": {
     "name": "#%%\n"
    }
   }
  },
  {
   "cell_type": "markdown",
   "source": [
    "### Q2: Based on NumPy Mathematics and Statistics"
   ],
   "metadata": {
    "collapsed": false,
    "pycharm": {
     "name": "#%% md\n"
    }
   }
  },
  {
   "cell_type": "markdown",
   "source": [
    "(a) For the array: array = np.array([[1, -2, 3],[-4, 5, -6]])\n",
    "i. Find element-wise absolute value\n",
    "ii. Find the 25th, 50th, and 75th percentile of flattened array, for each column, for each\n",
    "row.\n",
    "iii. Mean, Median and Standard Deviation of flattened array, of each column, and\n",
    "each row"
   ],
   "metadata": {
    "collapsed": false,
    "pycharm": {
     "name": "#%% md\n"
    }
   }
  },
  {
   "cell_type": "code",
   "execution_count": 7,
   "outputs": [
    {
     "name": "stdout",
     "output_type": "stream",
     "text": [
      "Absolute value: \n",
      "[[1 2 3]\n",
      " [4 5 6]]\n"
     ]
    }
   ],
   "source": [
    "array = np.array([[1, -2, 3],[-4, 5, -6]])\n",
    "print(f\"Absolute value: \\n{np.absolute(array)}\")"
   ],
   "metadata": {
    "collapsed": false,
    "pycharm": {
     "name": "#%%\n"
    }
   }
  },
  {
   "cell_type": "code",
   "execution_count": 9,
   "outputs": [
    {
     "name": "stdout",
     "output_type": "stream",
     "text": [
      "25th percentile of array is -3.5\n",
      "50th percentile of array is -0.5\n",
      "75th percentile of array is 2.5\n"
     ]
    }
   ],
   "source": [
    "print(f\"25th percentile of flattened array is {np.percentile(array.flatten(), 25)}\")\n",
    "print(f\"50th percentile of flattened array is {np.percentile(array.flatten(), 50)}\")\n",
    "print(f\"75th percentile of flattened array is {np.percentile(array.flatten(), 75)}\")"
   ],
   "metadata": {
    "collapsed": false,
    "pycharm": {
     "name": "#%%\n"
    }
   }
  },
  {
   "cell_type": "code",
   "execution_count": 10,
   "outputs": [
    {
     "name": "stdout",
     "output_type": "stream",
     "text": [
      "25th percentile of [ 1 -2  3] is -0.5\n",
      "50th percentile of [ 1 -2  3] is 1.0\n",
      "75th percentile of [ 1 -2  3] is 2.0\n",
      "25th percentile of [-4  5 -6] is -5.0\n",
      "50th percentile of [-4  5 -6] is -4.0\n",
      "75th percentile of [-4  5 -6] is 0.5\n"
     ]
    }
   ],
   "source": [
    "for i in array:\n",
    "    print(f\"25th percentile of {i} is {np.percentile(i, 25)}\")\n",
    "    print(f\"50th percentile of {i} is {np.percentile(i, 50)}\")\n",
    "    print(f\"75th percentile of {i} is {np.percentile(i, 75)}\")"
   ],
   "metadata": {
    "collapsed": false,
    "pycharm": {
     "name": "#%%\n"
    }
   }
  },
  {
   "cell_type": "code",
   "execution_count": 14,
   "outputs": [
    {
     "name": "stdout",
     "output_type": "stream",
     "text": [
      "25th percentile of [ 1 -4] is -2.75\n",
      "50th percentile of [ 1 -4] is -1.5\n",
      "75th percentile of [ 1 -4] is -0.25\n",
      "25th percentile of [-2  5] is -0.25\n",
      "50th percentile of [-2  5] is 1.5\n",
      "75th percentile of [-2  5] is 3.25\n",
      "25th percentile of [ 3 -6] is -3.75\n",
      "50th percentile of [ 3 -6] is -1.5\n",
      "75th percentile of [ 3 -6] is 0.75\n"
     ]
    }
   ],
   "source": [
    "for i in range(0, len(array[0])):\n",
    "    print(f\"25th percentile of {array[:,i]} is {np.percentile(array[:,i], 25)}\")\n",
    "    print(f\"50th percentile of {array[:,i]} is {np.percentile(array[:,i], 50)}\")\n",
    "    print(f\"75th percentile of {array[:,i]} is {np.percentile(array[:,i], 75)}\")"
   ],
   "metadata": {
    "collapsed": false,
    "pycharm": {
     "name": "#%%\n"
    }
   }
  },
  {
   "cell_type": "code",
   "execution_count": 19,
   "outputs": [
    {
     "name": "stdout",
     "output_type": "stream",
     "text": [
      "Mean for \n",
      "[[ 1 -2  3]\n",
      " [-4  5 -6]] is -0.5\n",
      "Median for \n",
      "[[ 1 -2  3]\n",
      " [-4  5 -6]] is -0.5\n",
      "Standard Deviation for \n",
      "[[ 1 -2  3]\n",
      " [-4  5 -6]] is 3.8622100754188224\n"
     ]
    }
   ],
   "source": [
    "print(f\"Mean for \\n{array} is {array.mean()}\")\n",
    "print(f\"Median for \\n{array} is {np.median(array)}\")\n",
    "print(f\"Standard Deviation for \\n{array} is {array.std()}\")"
   ],
   "metadata": {
    "collapsed": false,
    "pycharm": {
     "name": "#%%\n"
    }
   }
  },
  {
   "cell_type": "markdown",
   "source": [
    "(b) For the array: a = np.array([-1.8, -1.6, -0.5, 0.5,1.6, 1.8, 3.0]). Find floor, ceiling\n",
    "and truncated value, rounded values"
   ],
   "metadata": {
    "collapsed": false,
    "pycharm": {
     "name": "#%% md\n"
    }
   }
  },
  {
   "cell_type": "code",
   "execution_count": 24,
   "outputs": [
    {
     "name": "stdout",
     "output_type": "stream",
     "text": [
      "Values floored: [-2. -2. -1.  0.  1.  1.  3.]\n",
      "Values ceiled: [-1. -1. -0.  1.  2.  2.  3.]\n",
      "Rounded values: [-2. -2. -0.  0.  2.  2.  3.]\n",
      "Truncated values: [-1. -1. -0.  0.  1.  1.  3.]\n"
     ]
    }
   ],
   "source": [
    "a = np.array([-1.8, -1.6, -0.5, 0.5,1.6, 1.8, 3.0])\n",
    "print(f\"Values floored: {np.floor(a)}\")\n",
    "print(f\"Values ceiled: {np.ceil(a)}\")\n",
    "print(f\"Rounded values: {np.round(a)}\")\n",
    "print(f\"Truncated values: {np.trunc(a)}\")"
   ],
   "metadata": {
    "collapsed": false,
    "pycharm": {
     "name": "#%%\n"
    }
   }
  },
  {
   "cell_type": "markdown",
   "source": [
    "### Q3: Based on Searching and Sorting"
   ],
   "metadata": {
    "collapsed": false,
    "pycharm": {
     "name": "#%% md\n"
    }
   }
  },
  {
   "cell_type": "markdown",
   "source": [
    "(a) For the array: array = np.array([10, 52, 62, 16, 16, 54, 453]), find\n",
    "i. Sorted array\n",
    "ii. Indices of sorted array\n",
    "iii. 4 smallest elements\n",
    "iv. 5 largest elements"
   ],
   "metadata": {
    "collapsed": false,
    "pycharm": {
     "name": "#%% md\n"
    }
   }
  },
  {
   "cell_type": "code",
   "execution_count": 30,
   "outputs": [
    {
     "name": "stdout",
     "output_type": "stream",
     "text": [
      "Sorted array: [ 10  16  16  52  54  62 453]\n",
      "4 smallest elements: [10 16 16 52]\n",
      "5 largest elements: [ 16  52  54  62 453]\n"
     ]
    }
   ],
   "source": [
    "array = np.array([10, 52, 62, 16, 16, 54, 453])\n",
    "array = np.sort(array)\n",
    "print(f\"Sorted array: {array}\")\n",
    "print(f\"4 smallest elements: {array[0:4]}\")\n",
    "print(f\"5 largest elements: {array[-5:]}\")"
   ],
   "metadata": {
    "collapsed": false,
    "pycharm": {
     "name": "#%%\n"
    }
   }
  },
  {
   "cell_type": "markdown",
   "source": [
    "(b) For the array: array = np.array([1.0, 1.2, 2.2, 2.0, 3.0, 2.0]), find\n",
    "i. Integer elements only\n",
    "ii. Float elements only"
   ],
   "metadata": {
    "collapsed": false,
    "pycharm": {
     "name": "#%% md\n"
    }
   }
  },
  {
   "cell_type": "code",
   "execution_count": 38,
   "outputs": [
    {
     "name": "stdout",
     "output_type": "stream",
     "text": [
      "Integer values\n",
      "1.0\n",
      "2.0\n",
      "3.0\n",
      "2.0\n",
      "Float values\n",
      "1.2\n",
      "2.2\n"
     ]
    }
   ],
   "source": [
    "array = np.array([1.0, 1.2, 2.2, 2.0, 3.0, 2.0])\n",
    "print(\"Integer values\")\n",
    "for i in array:\n",
    "    if i % 1 == 0:\n",
    "        print(i)\n",
    "\n",
    "print(\"Float values\")\n",
    "for i in array:\n",
    "    if i % 1 != 0:\n",
    "        print(i)"
   ],
   "metadata": {
    "collapsed": false,
    "pycharm": {
     "name": "#%%\n"
    }
   }
  },
  {
   "cell_type": "markdown",
   "source": [
    "(a) Write a function named img_to_array(path) that reads an image from a specified path and\n",
    "save it as text file on local machine? (Note: use separate cases for RGB and Grey Scale\n",
    "images)\n",
    "(b) Load the saved file into jupyter notebook?"
   ],
   "metadata": {
    "collapsed": false,
    "pycharm": {
     "name": "#%% md\n"
    }
   }
  },
  {
   "cell_type": "code",
   "execution_count": 53,
   "outputs": [],
   "source": [
    "import cv2\n",
    "def img_to_array(path):\n",
    "    normal = cv2.imread(path)\n",
    "    grey = cv2.imread(path, cv2.IMREAD_GRAYSCALE)\n",
    "\n",
    "    np.save(path, normal)\n",
    "    np.save(path, grey)\n"
   ],
   "metadata": {
    "collapsed": false,
    "pycharm": {
     "name": "#%%\n"
    }
   }
  },
  {
   "cell_type": "code",
   "execution_count": 57,
   "outputs": [],
   "source": [
    "img_to_array(\"./SystemofaDownToxicityalbumcover.jpg\")"
   ],
   "metadata": {
    "collapsed": false,
    "pycharm": {
     "name": "#%%\n"
    }
   }
  },
  {
   "cell_type": "markdown",
   "source": [
    "Loading Images"
   ],
   "metadata": {
    "collapsed": false,
    "pycharm": {
     "name": "#%% md\n"
    }
   }
  },
  {
   "cell_type": "code",
   "execution_count": 59,
   "outputs": [],
   "source": [
    "normalLoad = np.load(\"./SystemofaDownToxicityalbumcover.jpg.npy\")"
   ],
   "metadata": {
    "collapsed": false,
    "pycharm": {
     "name": "#%%\n"
    }
   }
  }
 ],
 "metadata": {
  "kernelspec": {
   "display_name": "Python 3",
   "language": "python",
   "name": "python3"
  },
  "language_info": {
   "codemirror_mode": {
    "name": "ipython",
    "version": 2
   },
   "file_extension": ".py",
   "mimetype": "text/x-python",
   "name": "python",
   "nbconvert_exporter": "python",
   "pygments_lexer": "ipython2",
   "version": "2.7.6"
  }
 },
 "nbformat": 4,
 "nbformat_minor": 0
}