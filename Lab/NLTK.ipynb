{
 "cells": [
  {
   "cell_type": "code",
   "execution_count": 1,
   "id": "f436eb13",
   "metadata": {},
   "outputs": [],
   "source": [
    "import nltk\n",
    "import pandas as pd\n",
    "import os"
   ]
  },
  {
   "cell_type": "markdown",
   "id": "0e9e2432",
   "metadata": {},
   "source": [
    "#### Stemmer gives invalid words as output at times, then why do we use it?\n",
    "1. Stemmer is fast and doesn't require a lot of resources\n",
    "2. To reduce the size of the dataset, since NLP datasets are massive, it is impossible to handle such datasets without stemming them"
   ]
  },
  {
   "cell_type": "code",
   "execution_count": null,
   "id": "f81cc929",
   "metadata": {},
   "outputs": [],
   "source": [
    "filename = os.listdir('')"
   ]
  }
 ],
 "metadata": {
  "kernelspec": {
   "display_name": "Python 3 (ipykernel)",
   "language": "python",
   "name": "python3"
  },
  "language_info": {
   "codemirror_mode": {
    "name": "ipython",
    "version": 3
   },
   "file_extension": ".py",
   "mimetype": "text/x-python",
   "name": "python",
   "nbconvert_exporter": "python",
   "pygments_lexer": "ipython3",
   "version": "3.9.7"
  }
 },
 "nbformat": 4,
 "nbformat_minor": 5
}
