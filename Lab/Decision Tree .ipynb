{
 "cells": [
  {
   "cell_type": "code",
   "execution_count": 1,
   "id": "6a1b05b6",
   "metadata": {},
   "outputs": [],
   "source": [
    "import numpy as np\n",
    "import pandas as pd"
   ]
  },
  {
   "cell_type": "code",
   "execution_count": 9,
   "id": "b2f62f36",
   "metadata": {},
   "outputs": [],
   "source": [
    "def find_entropy(df):\n",
    "    entropy = 0\n",
    "    target = df.keys()[-1]\n",
    "    print(target)\n",
    "    target_values = df[target].unique()\n",
    "    print(target_values)\n",
    "    \n",
    "    for value in target_values:\n",
    "        prob = len(df[df[target]==value])/len(df) # no. of instances where in df we find df[target] == value\n",
    "        entropy += -(prob * np.log2(prob))\n",
    "    \n",
    "    return entropy"
   ]
  },
  {
   "cell_type": "code",
   "execution_count": 3,
   "id": "22efe5ea",
   "metadata": {},
   "outputs": [],
   "source": [
    "df = pd.read_csv('weather.csv')"
   ]
  },
  {
   "cell_type": "code",
   "execution_count": 10,
   "id": "97fb99a0",
   "metadata": {},
   "outputs": [
    {
     "name": "stdout",
     "output_type": "stream",
     "text": [
      "Play\n",
      "[0 1]\n"
     ]
    },
    {
     "data": {
      "text/plain": [
       "0.9402859586706311"
      ]
     },
     "execution_count": 10,
     "metadata": {},
     "output_type": "execute_result"
    }
   ],
   "source": [
    "find_entropy(df)"
   ]
  },
  {
   "cell_type": "code",
   "execution_count": 35,
   "id": "3aadfce0",
   "metadata": {},
   "outputs": [],
   "source": [
    "def find_avg_info_entropy(df, attribute):\n",
    "    attribute_values = df[attribute].unique() # no. of unique values in attribute\n",
    "    target = df.keys()[-1]\n",
    "    target_values = df[target].unique() # no. of unique values in target\n",
    "    avg_info_entropy = 0\n",
    "    print(attribute_values)\n",
    "    print(target_values)\n",
    "    for value1 in attribute_values:\n",
    "        entropy_subsample = 0\n",
    "        for value2 in target_values:\n",
    "            num = len(df[attribute][df[attribute] == value1][df[target] == value2])\n",
    "            den = len(df[attribute][df[attribute] == value1])\n",
    "            prob = num/den\n",
    "            entropy_subsample += -(prob * np.log2(prob + 1e-7))\n",
    "        weight =  den/len(df)\n",
    "        avg_info_entropy += weight * entropy_subsample\n",
    "    return avg_info_entropy"
   ]
  },
  {
   "cell_type": "code",
   "execution_count": 36,
   "id": "27fc54d9",
   "metadata": {},
   "outputs": [
    {
     "name": "stdout",
     "output_type": "stream",
     "text": [
      "['rainy' 'overcast' 'sunny']\n",
      "[0 1]\n"
     ]
    },
    {
     "data": {
      "text/plain": [
       "0.6935358915770655"
      ]
     },
     "execution_count": 36,
     "metadata": {},
     "output_type": "execute_result"
    }
   ],
   "source": [
    "find_avg_info_entropy(df, 'Outlook')"
   ]
  },
  {
   "cell_type": "code",
   "execution_count": 37,
   "id": "9a12eba2",
   "metadata": {},
   "outputs": [],
   "source": [
    "def find_winner(df):\n",
    "    attributes = df.keys()[:-1] # ALL EXCEPT LAST\n",
    "    IG = []\n",
    "    for attribute in attributes:\n",
    "        IG.append(find_entropy(df) - find_avg_info_entropy(df, attribute))\n",
    "    return df.keys()[:-1][np.argmax(IG)]"
   ]
  },
  {
   "cell_type": "code",
   "execution_count": 38,
   "id": "b7c7976b",
   "metadata": {},
   "outputs": [
    {
     "name": "stdout",
     "output_type": "stream",
     "text": [
      "Play\n",
      "[0 1]\n",
      "['rainy' 'overcast' 'sunny']\n",
      "[0 1]\n",
      "Play\n",
      "[0 1]\n",
      "['hot' 'mild' 'cool']\n",
      "[0 1]\n",
      "Play\n",
      "[0 1]\n",
      "['high' 'normal']\n",
      "[0 1]\n",
      "Play\n",
      "[0 1]\n",
      "[0 1]\n",
      "[0 1]\n"
     ]
    },
    {
     "data": {
      "text/plain": [
       "'Outlook'"
      ]
     },
     "execution_count": 38,
     "metadata": {},
     "output_type": "execute_result"
    }
   ],
   "source": [
    "find_winner(df)"
   ]
  },
  {
   "cell_type": "code",
   "execution_count": 51,
   "id": "b8e17c32",
   "metadata": {},
   "outputs": [],
   "source": [
    "def training(df, tree=None):\n",
    "    print(\"----\")\n",
    "    target = df.keys()[-1]\n",
    "    attribute = find_winner(df)\n",
    "    attribute_values = df[attribute].unique()\n",
    "    if tree is None:\n",
    "        tree = {}\n",
    "        tree[attribute] = {}\n",
    "    for value in attribute_values:\n",
    "        sub_df = df[df[attribute] == value].reset_index(drop = True)\n",
    "        print(sub_df)\n",
    "        clvalue, count = np.unique(sub_df[target], return_counts=True)\n",
    "        print(f\"clvalue = {clvalue}\")\n",
    "        print(f\"count = {count}\")\n",
    "        if len(count) == 1:\n",
    "            tree[attribute][value] = clvalue[0]\n",
    "        else:\n",
    "            tree[attribute][value] = training(sub_df)\n",
    "    return tree"
   ]
  },
  {
   "cell_type": "code",
   "execution_count": 52,
   "id": "5fab179e",
   "metadata": {},
   "outputs": [
    {
     "name": "stdout",
     "output_type": "stream",
     "text": [
      "----\n",
      "Play\n",
      "[0 1]\n",
      "['rainy' 'overcast' 'sunny']\n",
      "[0 1]\n",
      "Play\n",
      "[0 1]\n",
      "['hot' 'mild' 'cool']\n",
      "[0 1]\n",
      "Play\n",
      "[0 1]\n",
      "['high' 'normal']\n",
      "[0 1]\n",
      "Play\n",
      "[0 1]\n",
      "[0 1]\n",
      "[0 1]\n",
      "  Outlook  Temp Humidity  Windy  Play\n",
      "0   rainy   hot     high      0     0\n",
      "1   rainy   hot     high      1     0\n",
      "2   rainy  mild     high      0     0\n",
      "3   rainy  cool   normal      0     1\n",
      "4   rainy  mild   normal      1     1\n",
      "clvalue = [0 1]\n",
      "count = [3 2]\n",
      "----\n",
      "Play\n",
      "[0 1]\n",
      "['rainy']\n",
      "[0 1]\n",
      "Play\n",
      "[0 1]\n",
      "['hot' 'mild' 'cool']\n",
      "[0 1]\n",
      "Play\n",
      "[0 1]\n",
      "['high' 'normal']\n",
      "[0 1]\n",
      "Play\n",
      "[0 1]\n",
      "[0 1]\n",
      "[0 1]\n",
      "  Outlook  Temp Humidity  Windy  Play\n",
      "0   rainy   hot     high      0     0\n",
      "1   rainy   hot     high      1     0\n",
      "2   rainy  mild     high      0     0\n",
      "clvalue = [0]\n",
      "count = [3]\n",
      "  Outlook  Temp Humidity  Windy  Play\n",
      "0   rainy  cool   normal      0     1\n",
      "1   rainy  mild   normal      1     1\n",
      "clvalue = [1]\n",
      "count = [2]\n",
      "    Outlook  Temp Humidity  Windy  Play\n",
      "0  overcast   hot     high      0     1\n",
      "1  overcast  cool   normal      1     1\n",
      "2  overcast  mild     high      1     1\n",
      "3  overcast   hot   normal      0     1\n",
      "clvalue = [1]\n",
      "count = [4]\n",
      "  Outlook  Temp Humidity  Windy  Play\n",
      "0   sunny  mild     high      0     1\n",
      "1   sunny  cool   normal      0     1\n",
      "2   sunny  cool   normal      1     0\n",
      "3   sunny  mild   normal      0     1\n",
      "4   sunny  mild     high      1     0\n",
      "clvalue = [0 1]\n",
      "count = [2 3]\n",
      "----\n",
      "Play\n",
      "[1 0]\n",
      "['sunny']\n",
      "[1 0]\n",
      "Play\n",
      "[1 0]\n",
      "['mild' 'cool']\n",
      "[1 0]\n",
      "Play\n",
      "[1 0]\n",
      "['high' 'normal']\n",
      "[1 0]\n",
      "Play\n",
      "[1 0]\n",
      "[0 1]\n",
      "[1 0]\n",
      "  Outlook  Temp Humidity  Windy  Play\n",
      "0   sunny  mild     high      0     1\n",
      "1   sunny  cool   normal      0     1\n",
      "2   sunny  mild   normal      0     1\n",
      "clvalue = [1]\n",
      "count = [3]\n",
      "  Outlook  Temp Humidity  Windy  Play\n",
      "0   sunny  cool   normal      1     0\n",
      "1   sunny  mild     high      1     0\n",
      "clvalue = [0]\n",
      "count = [2]\n"
     ]
    }
   ],
   "source": [
    "tree = training(df)"
   ]
  },
  {
   "cell_type": "code",
   "execution_count": 44,
   "id": "223edfc3",
   "metadata": {},
   "outputs": [
    {
     "data": {
      "text/plain": [
       "{'Outlook': {'rainy': {'Humidity': {'high': 0, 'normal': 1}},\n",
       "  'overcast': 1,\n",
       "  'sunny': {'Windy': {0: 1, 1: 0}}}}"
      ]
     },
     "execution_count": 44,
     "metadata": {},
     "output_type": "execute_result"
    }
   ],
   "source": [
    "tree"
   ]
  },
  {
   "cell_type": "code",
   "execution_count": 55,
   "id": "00bff6c1",
   "metadata": {},
   "outputs": [],
   "source": [
    "def prediction(instance, tree):\n",
    "    for attribute in tree.keys():\n",
    "        value = instance[attribute]\n",
    "        tree = tree[attribute][value]\n",
    "        if type(tree) is dict:\n",
    "            predict = prediction(instance, tree)\n",
    "        else: # leaf node found (a value is returned)\n",
    "            predict = tree\n",
    "            break\n",
    "    return predict"
   ]
  },
  {
   "cell_type": "code",
   "execution_count": 57,
   "id": "4d749feb",
   "metadata": {},
   "outputs": [],
   "source": [
    "test = pd.read_csv('weather_test.csv')"
   ]
  },
  {
   "cell_type": "code",
   "execution_count": 58,
   "id": "6baed683",
   "metadata": {},
   "outputs": [
    {
     "data": {
      "text/html": [
       "<div>\n",
       "<style scoped>\n",
       "    .dataframe tbody tr th:only-of-type {\n",
       "        vertical-align: middle;\n",
       "    }\n",
       "\n",
       "    .dataframe tbody tr th {\n",
       "        vertical-align: top;\n",
       "    }\n",
       "\n",
       "    .dataframe thead th {\n",
       "        text-align: right;\n",
       "    }\n",
       "</style>\n",
       "<table border=\"1\" class=\"dataframe\">\n",
       "  <thead>\n",
       "    <tr style=\"text-align: right;\">\n",
       "      <th></th>\n",
       "      <th>Outlook</th>\n",
       "      <th>Temp</th>\n",
       "      <th>Humidity</th>\n",
       "      <th>Windy</th>\n",
       "      <th>Play</th>\n",
       "    </tr>\n",
       "  </thead>\n",
       "  <tbody>\n",
       "    <tr>\n",
       "      <th>0</th>\n",
       "      <td>rainy</td>\n",
       "      <td>cool</td>\n",
       "      <td>high</td>\n",
       "      <td>1</td>\n",
       "      <td>0</td>\n",
       "    </tr>\n",
       "    <tr>\n",
       "      <th>1</th>\n",
       "      <td>overcast</td>\n",
       "      <td>mild</td>\n",
       "      <td>normal</td>\n",
       "      <td>0</td>\n",
       "      <td>1</td>\n",
       "    </tr>\n",
       "  </tbody>\n",
       "</table>\n",
       "</div>"
      ],
      "text/plain": [
       "    Outlook  Temp Humidity  Windy  Play\n",
       "0     rainy  cool     high      1     0\n",
       "1  overcast  mild   normal      0     1"
      ]
     },
     "execution_count": 58,
     "metadata": {},
     "output_type": "execute_result"
    }
   ],
   "source": [
    "test"
   ]
  },
  {
   "cell_type": "code",
   "execution_count": 60,
   "id": "505ef218",
   "metadata": {},
   "outputs": [
    {
     "name": "stdout",
     "output_type": "stream",
     "text": [
      "for Outlook     rainy\n",
      "Temp         cool\n",
      "Humidity     high\n",
      "Windy           1\n",
      "Play            0\n",
      "Name: 0, dtype: object: 0\n",
      "for Outlook     overcast\n",
      "Temp            mild\n",
      "Humidity      normal\n",
      "Windy              0\n",
      "Play               1\n",
      "Name: 1, dtype: object: 1\n"
     ]
    }
   ],
   "source": [
    "Y_predict = []\n",
    "for i in range(len(test)):\n",
    "    instance = test.iloc[i,:]\n",
    "    predicted_value = prediction(instance, tree)\n",
    "    print(f\"for {instance}: {predicted_value}\")\n",
    "    Y_predict.append(predicted_value)"
   ]
  },
  {
   "cell_type": "code",
   "execution_count": 61,
   "id": "e1fd1adf",
   "metadata": {},
   "outputs": [
    {
     "data": {
      "text/plain": [
       "[0, 1]"
      ]
     },
     "execution_count": 61,
     "metadata": {},
     "output_type": "execute_result"
    }
   ],
   "source": [
    "Y_predict"
   ]
  }
 ],
 "metadata": {
  "kernelspec": {
   "display_name": "Python 3 (ipykernel)",
   "language": "python",
   "name": "python3"
  },
  "language_info": {
   "codemirror_mode": {
    "name": "ipython",
    "version": 3
   },
   "file_extension": ".py",
   "mimetype": "text/x-python",
   "name": "python",
   "nbconvert_exporter": "python",
   "pygments_lexer": "ipython3",
   "version": "3.9.7"
  }
 },
 "nbformat": 4,
 "nbformat_minor": 5
}
